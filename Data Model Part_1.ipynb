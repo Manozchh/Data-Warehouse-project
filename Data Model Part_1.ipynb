{
 "cells": [
  {
   "cell_type": "markdown",
   "id": "76050e5e",
   "metadata": {},
   "source": [
    "# Task1: Creating a Database table with Postgres"
   ]
  },
  {
   "cell_type": "markdown",
   "id": "54f23340",
   "metadata": {},
   "source": [
    "## Import library"
   ]
  },
  {
   "cell_type": "code",
   "execution_count": 1,
   "id": "a0a6ef40",
   "metadata": {},
   "outputs": [],
   "source": [
    "import psycopg2"
   ]
  },
  {
   "cell_type": "markdown",
   "id": "6be95939",
   "metadata": {},
   "source": [
    "## Create a connection to the database"
   ]
  },
  {
   "cell_type": "code",
   "execution_count": 2,
   "id": "ee282c93",
   "metadata": {},
   "outputs": [],
   "source": [
    "try:\n",
    "    conn = psycopg2.connect(\"host=127.0.0.1 dbname=postgres user=postgres password=sonu\")\n",
    "except psycopg2.Eroor as e:\n",
    "    print(\"Error: Could not make connection to postgres database\")\n",
    "    print(e)"
   ]
  },
  {
   "cell_type": "markdown",
   "id": "21965c73",
   "metadata": {},
   "source": [
    "## Use the connection to get the cursor to execute the queries"
   ]
  },
  {
   "cell_type": "code",
   "execution_count": 3,
   "id": "9754860b",
   "metadata": {},
   "outputs": [],
   "source": [
    "try:\n",
    "    cur = conn.cursor()\n",
    "except psycopg2.Error as e:\n",
    "    print(\"Could not get cursor to the postgres database\")\n",
    "    print(e)"
   ]
  },
  {
   "cell_type": "markdown",
   "id": "5cc3de92",
   "metadata": {},
   "source": [
    "## Set the autocommit to True so that each action is commited without having to call conn.commit() after each command."
   ]
  },
  {
   "cell_type": "code",
   "execution_count": 7,
   "id": "87e01ddf",
   "metadata": {},
   "outputs": [],
   "source": [
    "conn.set_session(autocommit=True)"
   ]
  },
  {
   "cell_type": "markdown",
   "id": "c7d27f26",
   "metadata": {},
   "source": [
    "## Create a database to do the work in "
   ]
  },
  {
   "cell_type": "code",
   "execution_count": 5,
   "id": "7bac8647",
   "metadata": {},
   "outputs": [
    {
     "name": "stdout",
     "output_type": "stream",
     "text": [
      "database \"mydb\" already exists\n",
      "\n"
     ]
    }
   ],
   "source": [
    "try:\n",
    "    cur.execute(\"CREATE DATABASE mydb\")\n",
    "except psycopg2.Error as e:\n",
    "    print(e)"
   ]
  },
  {
   "cell_type": "markdown",
   "id": "0c5159bb",
   "metadata": {},
   "source": [
    "## Add the database name in the connect statement. Let's close our connection to the default database, reconnect to the Udacity database, and get a new cursor."
   ]
  },
  {
   "cell_type": "code",
   "execution_count": 6,
   "id": "bc8ee4eb",
   "metadata": {},
   "outputs": [],
   "source": [
    "try:\n",
    "    conn.close()\n",
    "except psycopg2.Error as e:\n",
    "    print(e)\n",
    "    \n",
    "try:\n",
    "    conn = psycopg2.connect(\"host=127.0.0.1 dbname=mydb user=postgres password=sonu\")\n",
    "except psycopg2.Eroor as e:\n",
    "    print(\"Error: Could not make connection to postgres database\")\n",
    "    print(e)\n",
    "    \n",
    "try:\n",
    "    cur = conn.cursor()\n",
    "except psycopg2.Error as e:\n",
    "    print(\"Could not get cursor to the postgres database\")\n",
    "    print(e)"
   ]
  },
  {
   "cell_type": "markdown",
   "id": "cacde1e0",
   "metadata": {},
   "source": [
    "## Create a Table for students with below columns\n",
    "> student_id </br>\n",
    "  name</br>\n",
    "  age </br>\n",
    "  gender</br>\n",
    "  subject</br>\n",
    "  marks"
   ]
  },
  {
   "cell_type": "code",
   "execution_count": 8,
   "id": "7834c4bd",
   "metadata": {},
   "outputs": [],
   "source": [
    "try:\n",
    "    cur.execute(\"CREATE TABLE IF NOT EXISTS students (student_id int, name varchar, age int, \\\n",
    "                gender varchar, subject varchar, marks float);\")\n",
    "except psycopg2.Error as e:\n",
    "    print(\"Error: Issue creating table.\")\n",
    "    print(e)"
   ]
  },
  {
   "cell_type": "markdown",
   "id": "b5fd5466",
   "metadata": {},
   "source": [
    "## Insert the following rows to the table\n",
    "> first row : 1, \"Rob\", 22, \"male\", \"scala\", 50 </br>\n",
    "second row : 2, \"Arya\", 18, \"female\", \"python\", 65"
   ]
  },
  {
   "cell_type": "code",
   "execution_count": 11,
   "id": "3736b75d",
   "metadata": {},
   "outputs": [],
   "source": [
    "try:\n",
    "    cur.execute(\"INSERT INTO students (student_id, name, age, gender, subject, marks) VALUES (%s, %s, %s, %s, %s, %s )\", \\\n",
    "                (1, \"Rob\", 22, \"male\", \"scala\", 50))\n",
    "except psycopg2.Error as e:\n",
    "    print(\"Error: Inserting rows\")\n",
    "    print(e)\n",
    "  \n",
    "try:\n",
    "    cur.execute(\"INSERT INTO students (student_id, name, age, gender, subject, marks) VALUES (%s, %s, %s, %s, %s, %s )\", \\\n",
    "                (2, \"Arya\", 18, \"female\", \"python\", 65))\n",
    "except psycopg2.Error as e:\n",
    "    print(\"Error: Inserting rows\")\n",
    "    print(e)"
   ]
  },
  {
   "cell_type": "markdown",
   "id": "8ab75183",
   "metadata": {},
   "source": [
    "## Validate your data was inserted into the table"
   ]
  },
  {
   "cell_type": "code",
   "execution_count": 12,
   "id": "ccfcc3ee",
   "metadata": {},
   "outputs": [
    {
     "name": "stdout",
     "output_type": "stream",
     "text": [
      "(1, 'Rob', 22, 'male', 'scala', 50.0)\n",
      "(2, 'Arya', 18, 'female', 'python', 65.0)\n"
     ]
    }
   ],
   "source": [
    "try:\n",
    "    cur.execute(\"SELECT * FROM students;\")\n",
    "except psycopg2.Error as e:\n",
    "    print(\"Error: select\")\n",
    "    print(e)\n",
    "    \n",
    "row = cur.fetchone()\n",
    "while row:\n",
    "    print(row)\n",
    "    row = cur.fetchone()"
   ]
  },
  {
   "cell_type": "markdown",
   "id": "33ef4997",
   "metadata": {},
   "source": [
    "## Finally close the connection and the cursor"
   ]
  },
  {
   "cell_type": "code",
   "execution_count": 13,
   "id": "46863539",
   "metadata": {},
   "outputs": [],
   "source": [
    "cur.close()\n",
    "conn.close()"
   ]
  }
 ],
 "metadata": {
  "kernelspec": {
   "display_name": "Python 3 (ipykernel)",
   "language": "python",
   "name": "python3"
  },
  "language_info": {
   "codemirror_mode": {
    "name": "ipython",
    "version": 3
   },
   "file_extension": ".py",
   "mimetype": "text/x-python",
   "name": "python",
   "nbconvert_exporter": "python",
   "pygments_lexer": "ipython3",
   "version": "3.10.0"
  }
 },
 "nbformat": 4,
 "nbformat_minor": 5
}
